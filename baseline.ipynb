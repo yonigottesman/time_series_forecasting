{
 "cells": [
  {
   "cell_type": "code",
   "execution_count": 88,
   "metadata": {},
   "outputs": [],
   "source": [
    "from torch.utils.data import Dataset, DataLoader\n",
    "import pandas as pd\n",
    "import numpy as np\n",
    "import pytorch_lightning as pl\n",
    "from torch.nn import functional as F\n",
    "import torch as torch\n",
    "import matplotlib.pyplot as plt"
   ]
  },
  {
   "cell_type": "code",
   "execution_count": 193,
   "metadata": {},
   "outputs": [],
   "source": [
    "class WeatherDataset(Dataset):\n",
    "    def __init__(self, path, input_columns, input_width, label_column, label_width):\n",
    "        df = pd.read_csv(path)\n",
    "                \n",
    "        self.input_width = input_width\n",
    "        self.label_width = label_width\n",
    "        \n",
    "        self.input_columns = input_columns\n",
    "        self.label_column = label_column\n",
    "\n",
    "            \n",
    "        end_index = len(df)\n",
    "        start_index = 0\n",
    "        sequence_length = input_width+label_width\n",
    "        num_seqs = end_index - start_index - sequence_length + 1\n",
    "        self.start_positions = np.arange(0, num_seqs, 1)\n",
    "        \n",
    "        self.input_data = torch.tensor(df[self.input_columns].to_numpy())\n",
    "        self.label_data = torch.tensor(df[self.label_column].to_numpy())\n",
    "        \n",
    "    def __len__(self):\n",
    "        return len(self.start_positions)\n",
    "\n",
    "    def __getitem__(self, idx):\n",
    "        input_start = self.start_positions[idx]\n",
    "        input_end = input_start + self.input_width\n",
    "        \n",
    "        label_start = input_end\n",
    "        label_end = label_start + self.label_width\n",
    "        return {'input':self.input_data[input_start:input_end,:],\n",
    "                'label':self.label_data[label_start:label_end]}"
   ]
  },
  {
   "cell_type": "code",
   "execution_count": 196,
   "metadata": {},
   "outputs": [],
   "source": [
    "input_width=6\n",
    "label_width=1"
   ]
  },
  {
   "cell_type": "code",
   "execution_count": 197,
   "metadata": {},
   "outputs": [],
   "source": [
    "test_dataset = WeatherDataset('test.csv',['T (degC)'],input_width,'T (degC)',label_width)\n",
    "train_dataset = WeatherDataset('train.csv',['T (degC)'],input_width,'T (degC)',label_width)\n",
    "val_dataset = WeatherDataset('val.csv',['T (degC)'],input_width,'T (degC)',label_width)"
   ]
  },
  {
   "cell_type": "code",
   "execution_count": 212,
   "metadata": {},
   "outputs": [],
   "source": [
    "test_dataloader = DataLoader(test_dataset,batch_size=32)\n",
    "val_dataloader = DataLoader(val_dataset,batch_size=32)\n",
    "train_dataloader = DataLoader(train_dataset,batch_size=32)"
   ]
  },
  {
   "cell_type": "code",
   "execution_count": 229,
   "metadata": {},
   "outputs": [],
   "source": [
    "class Baseline(pl.LightningModule):\n",
    "    \n",
    "    \n",
    "    def __init__(self):\n",
    "        super().__init__()\n",
    "        self.test_mae = pl.metrics.MeanAbsoluteError()     \n",
    "        self.valid_mae = pl.metrics.MeanAbsoluteError()\n",
    "    def forward(self,x):\n",
    "        return x[:,-1]\n",
    "        \n",
    "    def test_step(self, batch, batch_idx):\n",
    "        x = batch['input']\n",
    "        y = batch['label']\n",
    "        yhat = self(x)\n",
    "        loss = F.mse_loss(yhat, y)\n",
    "        self.test_mae(yhat, y)\n",
    "        self.log('test_loss', loss)\n",
    "        self.log('test_mae', self.test_mae)\n",
    "        \n",
    "    def validation_step(self, batch, batch_idx):\n",
    "        x = batch['input']\n",
    "        y = batch['label']\n",
    "        yhat = self(x)\n",
    "        loss = F.mse_loss(yhat, y)\n",
    "        self.valid_mae(yhat, y)\n",
    "        self.log('val_loss', loss)\n",
    "        self.log('val_mae', self.valid_mae) \n"
   ]
  },
  {
   "cell_type": "code",
   "execution_count": 230,
   "metadata": {},
   "outputs": [],
   "source": [
    "model = Baseline()"
   ]
  },
  {
   "cell_type": "code",
   "execution_count": 231,
   "metadata": {},
   "outputs": [
    {
     "name": "stderr",
     "output_type": "stream",
     "text": [
      "GPU available: False, used: False\n",
      "TPU available: None, using: 0 TPU cores\n"
     ]
    }
   ],
   "source": [
    "trainer = pl.Trainer(gpus=0, progress_bar_refresh_rate=20)   "
   ]
  },
  {
   "cell_type": "code",
   "execution_count": 236,
   "metadata": {},
   "outputs": [
    {
     "data": {
      "application/vnd.jupyter.widget-view+json": {
       "model_id": "e2ad9fe3ea9e49c8a31bb96e68ff9323",
       "version_major": 2,
       "version_minor": 0
      },
      "text/plain": [
       "HBox(children=(FloatProgress(value=1.0, bar_style='info', description='Testing', layout=Layout(flex='2'), max=…"
      ]
     },
     "metadata": {},
     "output_type": "display_data"
    },
    {
     "name": "stdout",
     "output_type": "stream",
     "text": [
      "\n",
      "--------------------------------------------------------------------------------\n",
      "DATALOADER:0 TEST RESULTS\n",
      "{'test_loss': tensor(0.0128), 'test_mae': tensor(0.0785)}\n",
      "--------------------------------------------------------------------------------\n"
     ]
    },
    {
     "data": {
      "text/plain": [
       "[{'test_loss': 0.01284965593367815, 'test_mae': 0.0784820094704628}]"
      ]
     },
     "execution_count": 236,
     "metadata": {},
     "output_type": "execute_result"
    }
   ],
   "source": [
    "trainer.test(model, val_dataloader) "
   ]
  },
  {
   "cell_type": "code",
   "execution_count": 237,
   "metadata": {},
   "outputs": [
    {
     "data": {
      "application/vnd.jupyter.widget-view+json": {
       "model_id": "c88e66fda2004cefb726cce9acbd813a",
       "version_major": 2,
       "version_minor": 0
      },
      "text/plain": [
       "HBox(children=(FloatProgress(value=1.0, bar_style='info', description='Testing', layout=Layout(flex='2'), max=…"
      ]
     },
     "metadata": {},
     "output_type": "display_data"
    },
    {
     "name": "stdout",
     "output_type": "stream",
     "text": [
      "\n",
      "--------------------------------------------------------------------------------\n",
      "DATALOADER:0 TEST RESULTS\n",
      "{'test_loss': tensor(0.0142), 'test_mae': tensor(0.0852)}\n",
      "--------------------------------------------------------------------------------\n"
     ]
    },
    {
     "data": {
      "text/plain": [
       "[{'test_loss': 0.014172015711665154, 'test_mae': 0.0852045789361}]"
      ]
     },
     "execution_count": 237,
     "metadata": {},
     "output_type": "execute_result"
    }
   ],
   "source": [
    "trainer.test(model, test_dataloader) "
   ]
  },
  {
   "cell_type": "code",
   "execution_count": 238,
   "metadata": {},
   "outputs": [],
   "source": [
    "labels = []\n",
    "predictions = []\n",
    "for batch in test_dataloader:\n",
    "    x = batch['input']\n",
    "    y = batch['label']\n",
    "    yhat = model(x)\n",
    "    predictions.append(yhat)\n",
    "    labels.append(y)"
   ]
  },
  {
   "cell_type": "code",
   "execution_count": 239,
   "metadata": {},
   "outputs": [],
   "source": [
    "predictions = torch.cat(predictions)\n",
    "labels = torch.cat(labels)"
   ]
  },
  {
   "cell_type": "code",
   "execution_count": 240,
   "metadata": {},
   "outputs": [
    {
     "data": {
      "text/plain": [
       "<matplotlib.collections.PathCollection at 0x13c9cb630>"
      ]
     },
     "execution_count": 240,
     "metadata": {},
     "output_type": "execute_result"
    },
    {
     "data": {
      "image/png": "[encoded data removed]",
      "text/plain": [
       "<Figure size 432x288 with 1 Axes>"
      ]
     },
     "metadata": {
      "needs_background": "light"
     },
     "output_type": "display_data"
    }
   ],
   "source": [
    "start=0\n",
    "end=24\n",
    "xaxis=np.arange(start,end)\n",
    "fig, ax = plt.subplots()\n",
    "ax.plot(xaxis,labels[start:end],marker='.')\n",
    "ax.scatter(xaxis,predictions[start:end],color='r',marker='+')"
   ]
  },
  {
   "cell_type": "code",
   "execution_count": null,
   "metadata": {},
   "outputs": [],
   "source": []
  }
 ],
 "metadata": {
  "kernelspec": {
   "display_name": "ai",
   "language": "python",
   "name": "ai"
  },
  "language_info": {
   "codemirror_mode": {
    "name": "ipython",
    "version": 3
   },
   "file_extension": ".py",
   "mimetype": "text/x-python",
   "name": "python",
   "nbconvert_exporter": "python",
   "pygments_lexer": "ipython3",
   "version": "3.6.10"
  }
 },
 "nbformat": 4,
 "nbformat_minor": 4
}
